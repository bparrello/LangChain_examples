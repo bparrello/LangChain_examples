{
  "cells": [
    {
      "cell_type": "markdown",
      "metadata": {
        "id": "9IJvl-EEESCA"
      },
      "source": [
        "# <font color=red>LangChain:  Models </font>\n",
        "- https://docs.langchain.com/docs"
      ]
    },
    {
      "cell_type": "markdown",
      "metadata": {},
      "source": [
        "## What Does LangChain Provide?\n",
        "<span style=\"font-family:'Comic Sans MS', cursive, sans-serif;\"><font color=orange>\n",
        "+ Models\n",
        "  + embedding\n",
        "  + LLM (e.g. OpenAI)\n",
        "</font></span>\n",
        "+ Prompts\n",
        "  + prompt templates\n",
        "  + few-shot\n",
        "  + example-selectors\n",
        "  + output parsers\n",
        "+ Chains (a multi-step workflow composed of <em>links</em>)</br>\n",
        "  + Links (one of: prompt, model, another chain)\n",
        "+ Vector Database Access\n",
        "  + Document Loaders\n",
        "  + Text Splitting \n",
        "+ Memories (to facilitate chatbots or other 'iterative' sorts of apps)\n",
        "+ Agents (loop over Thought, Act, Observe)\n",
        "  + Tools\n",
        "    + math\n",
        "    + web search\n",
        "    + custom (user-defined)"
      ]
    },
    {
      "cell_type": "markdown",
      "metadata": {},
      "source": [
        "<span style=\"font-family:'Comic Sans MS', cursive, sans-serif;\"><font color=orange>\n",
        "## Models\n",
        "</font></span>\n",
        "<span style=\"font-family:'Comic Sans MS', cursive, sans-serif;\"><font color=orange>\n",
        "### Embedding Models\n",
        "</font></span>"
      ]
    },
    {
      "cell_type": "code",
      "execution_count": null,
      "metadata": {},
      "outputs": [],
      "source": [
        "## make sure your OpenAI key is in the environment\n",
        "from langchain.embeddings.openai import OpenAIEmbeddings\n",
        "\n",
        "model = OpenAIEmbeddings()\n",
        "strings = [\"This is a funny string.\",\n",
        "           \"This string is a sad one.\",\n",
        "           \"This is a cat string.\",\n",
        "           \"This one is a dog string.\"]\n",
        "embeddings =  model.embed_documents(strings)\n",
        "print(embeddings)\n",
        "print(\"num embeddings\",len(embeddings))\n",
        "for i in range(len(embeddings)):\n",
        "    print(f\"len embed for sentence {i} is {len(embeddings[i])}\")  # OpenAI embeddings are dim 1536"
      ]
    },
    {
      "cell_type": "markdown",
      "metadata": {},
      "source": [
        "<span style=\"font-family:'Comic Sans MS', cursive, sans-serif;\"><font color=orange>\n",
        "### LLM Models (completion and chat)\n",
        "</font></span>"
      ]
    },
    {
      "cell_type": "code",
      "execution_count": null,
      "metadata": {},
      "outputs": [],
      "source": [
        "## make sure your OpenAI key is in the environment\n",
        "from langchain.llms import OpenAI             # completion model\n",
        "from langchain.chat_models import ChatOpenAI  # chat model\n",
        "\n",
        "llm = OpenAI()   \n",
        "chat_model = ChatOpenAI()\n",
        "\n",
        "## NOTE: we are using the model directly here, not a chain\n",
        "llm_result = llm.predict(\"hello\")\n",
        "chat_model_result = chat_model.predict(\"hello\")\n",
        "\n",
        "print(f\"LLM: {repr(llm_result)}\")\n",
        "# print(f\"LLM: {llm_result}\")  # may print lots of white space\n",
        "print(f\"Chat Model: {repr(chat_model_result)}\")\n",
        "# print(f\"Chat Model: {chat_model_result}\")  # may print lots of white space"
      ]
    }
  ],
  "metadata": {
    "colab": {
      "authorship_tag": "ABX9TyMZi6NDm9npKydMJRyJPAT2",
      "include_colab_link": true,
      "provenance": []
    },
    "kernelspec": {
      "display_name": "Python 3",
      "name": "python3"
    },
    "language_info": {
      "codemirror_mode": {
        "name": "ipython",
        "version": 3
      },
      "file_extension": ".py",
      "mimetype": "text/x-python",
      "name": "python",
      "nbconvert_exporter": "python",
      "pygments_lexer": "ipython3",
      "version": "3.9.16"
    }
  },
  "nbformat": 4,
  "nbformat_minor": 0
}
