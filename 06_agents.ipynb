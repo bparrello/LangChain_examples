{
  "cells": [
    {
      "cell_type": "markdown",
      "metadata": {
        "id": "9IJvl-EEESCA"
      },
      "source": [
        "# <font color=red>LangChain:  Agents (with Tools)</font>\n",
        "- https://docs.langchain.com/docs"
      ]
    },
    {
      "cell_type": "markdown",
      "metadata": {},
      "source": [
        "## What Does LangChain Provide?\n",
        "+ Models\n",
        "  + embedding\n",
        "  + LLM (e.g. OpenAI)\n",
        "+ Prompts\n",
        "  + prompt templates\n",
        "  + few-shot\n",
        "  + example-selectors\n",
        "  + output parsers\n",
        "+ Chains (a multi-step workflow composed of <em>links</em>)</br>\n",
        "  + Links (one of: prompt, model, another chain)\n",
        "+ Vector Database Access\n",
        "  + Document Loaders\n",
        "  + Text Splitting \n",
        "+ Memories (to facilitate chatbots or other 'iterative' sorts of apps)\n",
        "<span style=\"font-family:'Comic Sans MS', cursive, sans-serif;\"><font color=orange>\n",
        "+ Agents (loop over Thought, Act, Observe)\n",
        "  + Tools\n",
        "    + math\n",
        "    + web search\n",
        "    + custom (user-defined)\n",
        "</font></span>"
      ]
    },
    {
      "cell_type": "markdown",
      "metadata": {},
      "source": [
        "<span style=\"font-family:'Comic Sans MS', cursive, sans-serif;\"><font color=orange>\n",
        "## Agents (with Tools)\n",
        "</font></span>\n",
        "There are several types of agents in LangChain, some of which are still experimental.</br>\n",
        "Here are some of the types of agents and agent-simulations currently implemented:\n",
        "- Chatbots\n",
        "- CAMEL Role-Playing Autonomous Cooperative Agents\n",
        "- Generative Agents\n",
        "- Simulated Environment: Gymnasium\n",
        "- Two-Player (and Multi-player) Dungeons & Dragons\n",
        "- Multi-agent authoritarian speaker selection\n",
        "- Multi-agent Simulated Environment: Petting Zoo\n",
        "- Agent Debates with Tools\n",
        "- Plan-and-execute\n",
        "- BabyAGI User Guide and BabyAGI with Tools\n",
        "- CAMEL Role-Playing Autonomous Cooperative Agents\n",
        "- Custom Agent with PlugIn Retrieval\n",
        "- Plug-and-Play\n",
        "- Multi-modal outputs: Image & Text\n",
        "- SalesGPT - Your Context-Aware AI Sales Assistant With Knowledge Base\n",
        "- Wikibase Agent"
      ]
    },
    {
      "cell_type": "markdown",
      "metadata": {},
      "source": [
        "Agents iterate over this pattern until a solution is obtained or a max number of iterations is reached:</br>\n",
        "<pre>\n",
        "        Thought -> Action -> Observation -> \n",
        "</pre>\n",
        "The agent uses Tools to solve some problem during the Action phase.</br>\n",
        "Such tools may provide extra math or web-search capabilities.\n",
        "Some of the tools are built-in to LangChain and some can be user-defined.\n",
        "We will start with a small example using a built-in math tool (llm-math)."
      ]
    },
    {
      "cell_type": "markdown",
      "metadata": {},
      "source": [
        "<span style=\"font-family:'Comic Sans MS', cursive, sans-serif;\"><font color=orange>\n",
        "### Agent with built-in tool (<font color=green>llm-math</font>)\n",
        "</font></span>"
      ]
    },
    {
      "cell_type": "code",
      "execution_count": null,
      "metadata": {},
      "outputs": [],
      "source": [
        "from langchain.chat_models import ChatOpenAI\n",
        "from langchain.agents import load_tools, initialize_agent, AgentType\n",
        "\n",
        "llm = ChatOpenAI(temperature=0, model=\"gpt-4\", max_tokens=64)\n",
        "\n",
        "tools = load_tools([\"llm-math\"], llm=llm)\n",
        "# change verbose to False if you just want the answer\n",
        "agent = initialize_agent(tools, llm, agent=AgentType.ZERO_SHOT_REACT_DESCRIPTION, verbose=True)\n",
        "\n",
        "agent.run( \"What is 12345678 to the 0.23 power ?\" )"
      ]
    },
    {
      "cell_type": "markdown",
      "metadata": {},
      "source": [
        "Now, let's add use of a tool that performs google web search, serpapi.</br>\n",
        "Use of the serpapi tool is free, but you need to obtain a key to use it."
      ]
    },
    {
      "cell_type": "markdown",
      "metadata": {},
      "source": [
        "<span style=\"font-family:'Comic Sans MS', cursive, sans-serif;\"><font color=orange>\n",
        "### Adding a second built-in tool (<font color=green>serpapi</font>)\n",
        "</font></span>"
      ]
    },
    {
      "cell_type": "code",
      "execution_count": null,
      "metadata": {},
      "outputs": [],
      "source": [
        "## you must have SERPAPI_API_KEY set in your environment\n",
        "import os\n",
        "# os.environ[\"SERPAPI_API_KEY\"] = \"\"  ## fix this line if you do not have it in the environment\n",
        "\n",
        "from langchain.chat_models import ChatOpenAI\n",
        "from langchain.agents import load_tools, initialize_agent, AgentType\n",
        "\n",
        "llm = ChatOpenAI(temperature=0, model=\"gpt-4\", max_tokens=64)\n",
        "\n",
        "tools = load_tools([\"llm-math\", \"serpapi\"], llm=llm)\n",
        "agent = initialize_agent(tools, llm, agent=AgentType.ZERO_SHOT_REACT_DESCRIPTION, verbose=True)\n",
        "\n",
        "agent.run( \"What is the age of the current USA president?  And what is his age raised to the 0.23 power?\" )"
      ]
    },
    {
      "cell_type": "markdown",
      "metadata": {},
      "source": [
        "<span style=\"font-family:'Comic Sans MS', cursive, sans-serif;\"><font color=orange>\n",
        "### Making our own tool using <font color=green>StructuredTool</font>\n",
        "</font></span>\n",
        "<font color=green>StructuredTool</font> helps you to take a simple <em>function</em> and turn it into a tool."
      ]
    },
    {
      "cell_type": "code",
      "execution_count": null,
      "metadata": {},
      "outputs": [],
      "source": [
        "import os, re, time, openai, langchain\n",
        "\n",
        "from typing import Optional, Union\n",
        "from math import sqrt, cos, sin\n",
        "\n",
        "from langchain.chat_models import ChatOpenAI\n",
        "from langchain.tools import StructuredTool   # instead of BaseTool\n",
        "from langchain.agents import initialize_agent, AgentType\n",
        "\n",
        "from langchain.prompts.chat import (\n",
        "    ChatPromptTemplate,\n",
        "    SystemMessagePromptTemplate,\n",
        "    HumanMessagePromptTemplate,\n",
        ")\n",
        "\n",
        "def pythagoras_func(adjacent_side: Optional[Union[int, float]] = None,\n",
        "                    opposite_side: Optional[Union[int, float]] = None,\n",
        "                    angle: Optional[Union[int, float]] = None\n",
        "                   ):\n",
        "    \"\"\"Hypotenuse calculator\n",
        "       Use this tool when you need to calculate the length of an hypotenuse given one or two sides of a\n",
        "       triangle and/or an angle (in degrees).  To use the tool you must provide at least two of the\n",
        "       following parameters:  ['adjacent_side', 'opposite_side', 'angle'].\n",
        "    \"\"\"\n",
        "    if adjacent_side and opposite_side:\n",
        "        return sqrt(float(adjacent_side)**2 + float(opposite_side)**2)\n",
        "    elif adjacent_side and angle:\n",
        "        return adjacent_side / cos(float(angle))\n",
        "    elif opposite_side and angle:\n",
        "        return opposite_side / sin(float(angle))\n",
        "    else:\n",
        "        return \"Could not calculate the hypotenuse of the triangle.\"\n",
        "\n",
        "pythagoras_tool = StructuredTool.from_function(pythagoras_func)\n",
        "\n",
        "tools = [pythagoras_tool]\n",
        "\n",
        "llm = ChatOpenAI(temperature=0.0, model_name='gpt-4')\n",
        "\n",
        "agent = initialize_agent(\n",
        "    # agent='chat-conversational-react-description',\n",
        "    agent=AgentType.STRUCTURED_CHAT_ZERO_SHOT_REACT_DESCRIPTION,\n",
        "    tools=tools,\n",
        "    llm=llm,\n",
        "    verbose=True,\n",
        "    max_iterations=3,\n",
        "    early_stopping_method='generate',\n",
        ")\n",
        "\n",
        "system_msg_template = \"You will help with problems such as figuring out values about sides of triangles.\"\n",
        "system_msg_prompt = SystemMessagePromptTemplate.from_template(system_msg_template)\n",
        "user_template = \"Answer the following question: {question}\"\n",
        "user_msg_prompt = HumanMessagePromptTemplate.from_template(user_template)\n",
        "chat_prompt = ChatPromptTemplate.from_messages( [system_msg_prompt,user_msg_prompt])\n",
        "\n",
        "response = agent(\"If I have a triangle with two sides of length 51cm and 34cm, what is the length of the hypotenuse?\")\n",
        "print(response)"
      ]
    },
    {
      "cell_type": "markdown",
      "metadata": {},
      "source": [
        "<span style=\"font-family:'Comic Sans MS', cursive, sans-serif;\"><font color=orange>\n",
        "### Making our own tool sub-classing <font color=green>BaseTool</font>\n",
        "</font></span>\n",
        "<font color=green>BaseTool</font> is a powerful super-class from which any tool can be built.</br>\n",
        "Why we might prefer to use this instead of StructuredTool above is explained by the LangChain docs:</br>\n",
        "<pre>\n",
        "    If you want more control over the tool definition, you can subclass the BaseTool directly.\n",
        "    For instance, maybe you want the api key to be loaded automatically from the environment variables.\n",
        "</pre>\n",
        "You might perform actions like loading the api key in the \\_\\_init\\_\\_ method of the new subclass."
      ]
    },
    {
      "cell_type": "code",
      "execution_count": null,
      "metadata": {},
      "outputs": [],
      "source": [
        "import os, re, time, openai, langchain\n",
        "\n",
        "from typing import Optional, Union\n",
        "from math import sqrt, cos, sin\n",
        "\n",
        "from langchain.chat_models import ChatOpenAI\n",
        "from langchain.tools import BaseTool   # our tool will sub-class this\n",
        "from langchain.agents import initialize_agent, AgentType\n",
        "\n",
        "from langchain.prompts.chat import (\n",
        "    ChatPromptTemplate,\n",
        "    SystemMessagePromptTemplate,\n",
        "    HumanMessagePromptTemplate,\n",
        ")\n",
        "\n",
        "class PythagorasTool(BaseTool):\n",
        "    name = \"Hypotenuse calculator\"\n",
        "    description = \"use this tool when you need to calculate the length of an hypotenuse \" +\\\n",
        "                  \"given one or two sides of a triangle and/or an angle (in degrees). \" +\\\n",
        "                  \"To use the tool you must provide at least two of the following parameters \" +\\\n",
        "                  \"['adjacent_side', 'opposite_side', 'angle'].\"\n",
        "\n",
        "    def _run(\n",
        "        self,\n",
        "        adjacent_side: Optional[Union[int, float]] = None,\n",
        "        opposite_side: Optional[Union[int, float]] = None,\n",
        "        angle: Optional[Union[int, float]] = None\n",
        "    ):\n",
        "        if adjacent_side and opposite_side:\n",
        "            return sqrt(float(adjacent_side)**2 + float(opposite_side)**2)\n",
        "        elif adjacent_side and angle:\n",
        "            return adjacent_side / cos(float(angle))\n",
        "        elif opposite_side and angle:\n",
        "            return opposite_side / sin(float(angle))\n",
        "        else:\n",
        "            return \"Could not calculate the hypotenuse of the triangle.\"\n",
        "\n",
        "    def _arun(self, query: str):\n",
        "        raise NotImplementedError(\"This tool does not support async\")\n",
        "\n",
        "\n",
        "tools = [PythagorasTool()]\n",
        "\n",
        "llm = ChatOpenAI(temperature=0.0, model_name='gpt-4')\n",
        "\n",
        "agent = initialize_agent(\n",
        "    # agent='chat-conversational-react-description',\n",
        "    agent=AgentType.STRUCTURED_CHAT_ZERO_SHOT_REACT_DESCRIPTION,\n",
        "    tools=tools,\n",
        "    llm=llm,\n",
        "    verbose=True,\n",
        "    max_iterations=3,\n",
        "    early_stopping_method='generate',\n",
        ")\n",
        "\n",
        "system_msg_template = \"You will help with problems such as figuring out values about sides of triangles.\"\n",
        "system_msg_prompt = SystemMessagePromptTemplate.from_template(system_msg_template)\n",
        "user_template = \"Answer the following question: {question}\"\n",
        "user_msg_prompt = HumanMessagePromptTemplate.from_template(user_template)\n",
        "chat_prompt = ChatPromptTemplate.from_messages( [system_msg_prompt,user_msg_prompt])\n",
        "\n",
        "response = agent(\"If I have a triangle with two sides of length 51cm and 34cm, what is the length of the hypotenuse?\")\n",
        "print(response)"
      ]
    }
  ],
  "metadata": {
    "colab": {
      "authorship_tag": "ABX9TyMZi6NDm9npKydMJRyJPAT2",
      "include_colab_link": true,
      "provenance": []
    },
    "kernelspec": {
      "display_name": "Python 3",
      "name": "python3"
    },
    "language_info": {
      "codemirror_mode": {
        "name": "ipython",
        "version": 3
      },
      "file_extension": ".py",
      "mimetype": "text/x-python",
      "name": "python",
      "nbconvert_exporter": "python",
      "pygments_lexer": "ipython3",
      "version": "3.9.16"
    }
  },
  "nbformat": 4,
  "nbformat_minor": 0
}
