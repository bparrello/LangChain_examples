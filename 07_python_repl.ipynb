{
  "cells": [
    {
      "cell_type": "markdown",
      "metadata": {
        "id": "9IJvl-EEESCA"
      },
      "source": [
        "# <font color=red>LangChain:  Demos of PythonREPL </font>\n",
        "- https://docs.langchain.com/docs"
      ]
    },
    {
      "cell_type": "markdown",
      "metadata": {},
      "source": [
        "<span style=\"font-family:'Comic Sans MS', cursive, sans-serif;\"><font color=orange>\n",
        "## Demo 1 of PythonREPL\n",
        "</font></span>\n",
        "This demo uses OpenAI instead of ChatOpenAI."
      ]
    },
    {
      "cell_type": "code",
      "execution_count": null,
      "metadata": {},
      "outputs": [],
      "source": [
        "from langchain import OpenAI\n",
        "from langchain.agents import Tool, initialize_agent\n",
        "from langchain.utilities import PythonREPL\n",
        "\n",
        "llm = OpenAI(temperature=0.0)   # simpler model, not a chat model\n",
        "\n",
        "python_repl = PythonREPL()\n",
        "\n",
        "tools = [\n",
        "    Tool(\n",
        "        name = \"python repl\",\n",
        "        func=python_repl.run,\n",
        "        description=\"For when you need to use python to answer a question.\"\n",
        "    )\n",
        "]\n",
        "\n",
        "zero_shot_agent = initialize_agent(\n",
        "    agent=\"zero-shot-react-description\",\n",
        "    tools=tools,\n",
        "    llm=llm,\n",
        "    verbose=True,\n",
        "    max_iterations=3,\n",
        ")\n",
        "\n",
        "r = zero_shot_agent.run('Write a function to check if 11 a prime number and test it')\n",
        "print(r)\n",
        "r = zero_shot_agent.run('Write a function to compute the 8th fibonacci number')\n",
        "print(r)"
      ]
    },
    {
      "cell_type": "markdown",
      "metadata": {},
      "source": [
        "<span style=\"font-family:'Comic Sans MS', cursive, sans-serif;\"><font color=orange>\n",
        "## Demo 2 of PythonREPL\n",
        "</font></span>\n",
        "This demo uses ChatOpenAI."
      ]
    },
    {
      "cell_type": "code",
      "execution_count": null,
      "metadata": {},
      "outputs": [],
      "source": [
        "from langchain.chat_models import ChatOpenAI\n",
        "from langchain.prompts import ChatPromptTemplate\n",
        "from langchain.agents import Tool, initialize_agent\n",
        "from langchain.tools.python.tool import PythonREPLTool\n",
        "\n",
        "llm = ChatOpenAI(model_name=\"gpt-4\", temperature=0.1, max_tokens=512)\n",
        "\n",
        "zero_shot_agent = initialize_agent(\n",
        "    agent=\"zero-shot-react-description\",\n",
        "    tools=[ PythonREPLTool() ],\n",
        "    llm=llm,\n",
        "    verbose=True,\n",
        "    max_iterations=3,\n",
        ")\n",
        "\n",
        "resp = zero_shot_agent.run({\"input\": \"what is 2 plus 2\"})\n",
        "print(resp)\n",
        "resp = zero_shot_agent.run( { \"input\": \"Use a function to return '11 is prime' if 11 a prime number\" } )\n",
        "print(resp)"
      ]
    }
  ],
  "metadata": {
    "colab": {
      "authorship_tag": "ABX9TyMZi6NDm9npKydMJRyJPAT2",
      "include_colab_link": true,
      "provenance": []
    },
    "kernelspec": {
      "display_name": "Python 3",
      "name": "python3"
    },
    "language_info": {
      "codemirror_mode": {
        "name": "ipython",
        "version": 3
      },
      "file_extension": ".py",
      "mimetype": "text/x-python",
      "name": "python",
      "nbconvert_exporter": "python",
      "pygments_lexer": "ipython3",
      "version": "3.9.16"
    }
  },
  "nbformat": 4,
  "nbformat_minor": 0
}
